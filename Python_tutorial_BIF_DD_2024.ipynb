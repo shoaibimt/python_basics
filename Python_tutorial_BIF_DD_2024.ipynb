{
  "nbformat": 4,
  "nbformat_minor": 0,
  "metadata": {
    "colab": {
      "provenance": [],
      "collapsed_sections": [
        "8JYOfVABFGPC",
        "i-Q7bfWaksUi",
        "lEz3c39Hk0gX",
        "ehKxaaTUk_KV",
        "Zo1Qhlm4S-Le"
      ],
      "authorship_tag": "ABX9TyPQhfjnbFSaNqy8oqpc2ibj",
      "include_colab_link": true
    },
    "kernelspec": {
      "name": "python3",
      "display_name": "Python 3"
    },
    "language_info": {
      "name": "python"
    }
  },
  "cells": [
    {
      "cell_type": "markdown",
      "metadata": {
        "id": "view-in-github",
        "colab_type": "text"
      },
      "source": [
        "<a href=\"https://colab.research.google.com/github/shoaibimt/python_basics/blob/main/Python_tutorial_BIF_DD_2024.ipynb\" target=\"_parent\"><img src=\"https://colab.research.google.com/assets/colab-badge.svg\" alt=\"Open In Colab\"/></a>"
      ]
    },
    {
      "cell_type": "markdown",
      "source": [
        "#**BIF DD Workshop 2024** <br>\n",
        "\n",
        "- **Instructor:** Dr. Mohd. Shoaib Khan\n",
        "- **Target audience**: BIF DD 2024 Participants\n"
      ],
      "metadata": {
        "id": "stC9y_m1r1W3"
      }
    },
    {
      "cell_type": "markdown",
      "source": [
        "**Introduction to Python programming**"
      ],
      "metadata": {
        "id": "pQV6yytHNMoP"
      }
    },
    {
      "cell_type": "markdown",
      "source": [
        "![jpeg-optimizer_Python-logo-notext.svg.jpg](data:image/jpeg;base64,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)"
      ],
      "metadata": {
        "id": "me1tFUhgO3zN"
      }
    },
    {
      "cell_type": "markdown",
      "source": [
        "**What is Python**<br>\n",
        "Python is a dynamic, interpreted general-purpose programming language originally established by Guido van Rossum in 1991. <br>\n",
        "It is a powerful language that supports numerous common programming paradigms:<br>\n",
        "* Procedural<br>\n",
        "* Functional,<br>\n",
        "* Object-oriented.<br>\n",
        "\n",
        "---\n",
        "\n",
        "Python is widely used in bioinformatics, scientific computing, academia, and industry. It is available on all major operating systems.<br>\n",
        "* Mac <br>\n",
        "* Windows <br>\n",
        "* Linux <br>\n"
      ],
      "metadata": {
        "id": "WD7TB3aDI1l3"
      }
    },
    {
      "cell_type": "markdown",
      "source": [
        "**How to run Python commands/scripts?**<br>\n",
        "Python is an interpreted language, which means that your computer does not run Python code natively, but rather we use the Python interpreter.<br>\n",
        "There are three ways to run Python code- <br>\n",
        "\n",
        "* Directly entering commands into the interpreter: Good for experimenting with the language and doing some interactive work. <br>\n",
        "* Using a Jupyter Notebook: Excellent for experimenting with the language, sharing, and learning. <br>\n",
        "* Entering code into a file and instructing the interpreter to execute the code from that file: Ideal for larger programs and running the same code repeatedly. <br>\n"
      ],
      "metadata": {
        "id": "aDtHzQOqLRBL"
      }
    },
    {
      "cell_type": "markdown",
      "source": [
        "**One of the most commonly used function in python is \"print\"**"
      ],
      "metadata": {
        "id": "-6wQo7hxHRZN"
      }
    },
    {
      "cell_type": "code",
      "source": [
        "print(\"Hello from Shoaib!\")"
      ],
      "metadata": {
        "id": "rRupcXho3sXC"
      },
      "execution_count": null,
      "outputs": []
    },
    {
      "cell_type": "code",
      "source": [
        "help(print)"
      ],
      "metadata": {
        "collapsed": true,
        "id": "9HYIoybWWBUg"
      },
      "execution_count": null,
      "outputs": []
    },
    {
      "cell_type": "code",
      "source": [
        "print(\"The number:\", 42)"
      ],
      "metadata": {
        "id": "p45d6dxj36o4"
      },
      "execution_count": null,
      "outputs": []
    },
    {
      "cell_type": "code",
      "source": [
        "serine = \"TCA\"\n",
        "print(serine, \"codes for serine\")\n",
        "serine = \"TCG\"\n",
        "print(\"as does\", serine)"
      ],
      "metadata": {
        "id": "fN-vS5ec4Pg5"
      },
      "execution_count": null,
      "outputs": []
    },
    {
      "cell_type": "markdown",
      "source": [
        "#**Data types in Python**"
      ],
      "metadata": {
        "id": "t3r71ShTI_he"
      }
    },
    {
      "cell_type": "markdown",
      "source": [
        "**Simple data types**<br>\n",
        "Different kinds of data are handled differently by Python (and computers in general). There are four primary basic data types in Python. Types are helpful for limiting some operations to a particular class of variables. They are-\n",
        "\n",
        "* **Integers,** <br>\n",
        "* **Floats,** <br>\n",
        "* **Strings** <br>\n",
        "* **and Booleans**"
      ],
      "metadata": {
        "id": "zwmWcmu35OG2"
      }
    },
    {
      "cell_type": "markdown",
      "source": [
        "**Integers**<br>\n",
        "Integers represent whole numbers, as used when counting items, and can be positive or negative."
      ],
      "metadata": {
        "id": "WcdfE7V55z-3"
      }
    },
    {
      "cell_type": "code",
      "source": [
        "a = 10\n",
        "b = 25\n",
        "print(a, b)"
      ],
      "metadata": {
        "id": "zpuQ0jW36Dkj"
      },
      "execution_count": null,
      "outputs": []
    },
    {
      "cell_type": "markdown",
      "source": [
        "**Floats** <br>\n",
        "Numerical values that are expressed in the decimal system, such as 10.2, 55.78, -0.003, etc., are known as floating point numbers, or simply floats. While the number 6 without the decimal point will be interpreted as an integer, the value 6.0 would likewise be interpreted as a floating point number."
      ],
      "metadata": {
        "id": "T4nGEhNE6R7U"
      }
    },
    {
      "cell_type": "code",
      "source": [
        "x = 10.26\n",
        "y = -29.98\n",
        "print(x * y)"
      ],
      "metadata": {
        "id": "OO4Q0l2I6xc2"
      },
      "execution_count": null,
      "outputs": []
    },
    {
      "cell_type": "code",
      "source": [
        "m = 1.6e4\n",
        "n = 6e-3\n",
        "print(m)\n",
        "print(n)"
      ],
      "metadata": {
        "id": "S09Ldzaw693L"
      },
      "execution_count": null,
      "outputs": []
    },
    {
      "cell_type": "markdown",
      "source": [
        "**Strings** <br>\n",
        "Text is represented by strings, which are \"strings\" of characters. Single quotes ' ' or double quotes \"\" can be used to delimit them, but you use the same delimiter on both ends."
      ],
      "metadata": {
        "id": "tPSEVqod7YcQ"
      }
    },
    {
      "cell_type": "code",
      "source": [
        "s = \"ATGTCGTCTACAACACT\"\n",
        "t = 'Serine'\n",
        "u = \"It's a string with apostrophes\"\n",
        "v = \"\"\"A string that extends\n",
        "over multiple lines\"\"\"\n",
        "print(v)"
      ],
      "metadata": {
        "id": "BBvMILTq7yQU"
      },
      "execution_count": null,
      "outputs": []
    },
    {
      "cell_type": "markdown",
      "source": [
        "**Input from user**"
      ],
      "metadata": {
        "id": "JYmPMOXlqzmI"
      }
    },
    {
      "cell_type": "code",
      "source": [
        "x= input(\" Enter the text here: \\n\")\n",
        "print(\"You typed\", x)"
      ],
      "metadata": {
        "colab": {
          "base_uri": "https://localhost:8080/"
        },
        "id": "BwBILHvuq-yK",
        "outputId": "2c5cacb9-58d1-4f6d-b380-1298d0a141f6"
      },
      "execution_count": 9,
      "outputs": [
        {
          "output_type": "stream",
          "name": "stdout",
          "text": [
            " Enter the text here: \n",
            "ok\n",
            "You typed ok\n"
          ]
        }
      ]
    },
    {
      "cell_type": "code",
      "source": [
        "num= int(input(\"Enter some integer number here \\n\"))\n",
        "print (\"The integer typed is-\",  num)"
      ],
      "metadata": {
        "colab": {
          "base_uri": "https://localhost:8080/"
        },
        "id": "NbYomsHOsBV_",
        "outputId": "03ae7045-28b7-4bac-f116-370e20ef097d"
      },
      "execution_count": 11,
      "outputs": [
        {
          "output_type": "stream",
          "name": "stdout",
          "text": [
            "Enter some integer number here \n",
            "56\n",
            "The integer typed is- 56\n"
          ]
        }
      ]
    },
    {
      "cell_type": "markdown",
      "source": [
        "**Booleans**<br>\n",
        "Boolean values reflect truth or false in logical procedures, for example. As one might expect, there are just two values: **True** and **False** in Python."
      ],
      "metadata": {
        "id": "cymZZj8W78CW"
      }
    },
    {
      "cell_type": "code",
      "source": [
        "a = True\n",
        "b = False\n",
        "print(a, b)"
      ],
      "metadata": {
        "id": "R0kGKSvi8VJJ"
      },
      "execution_count": null,
      "outputs": []
    },
    {
      "cell_type": "markdown",
      "source": [
        "**Python type casting** <br>\n",
        "It is a process of converting a variable from one data type to another."
      ],
      "metadata": {
        "id": "dfvgwcdbt5sO"
      }
    },
    {
      "cell_type": "code",
      "source": [
        "num = 3.9\n",
        "num_int1 = int(num)  # Result: 3 (truncates the decimal part)\n",
        "\n",
        "# From string to int\n",
        "num_str = \"42\"\n",
        "num_int = int(num_str)\n",
        "num_int1"
      ],
      "metadata": {
        "colab": {
          "base_uri": "https://localhost:8080/"
        },
        "id": "0YaTwcoKuoGQ",
        "outputId": "1c7b8e04-e3a7-4dd6-9cec-2d1e0b9cfb71"
      },
      "execution_count": 14,
      "outputs": [
        {
          "output_type": "execute_result",
          "data": {
            "text/plain": [
              "3"
            ]
          },
          "metadata": {},
          "execution_count": 14
        }
      ]
    },
    {
      "cell_type": "markdown",
      "source": [
        "**The None object**<br>\n",
        "The None object is a particular built-in value that represents emptiness or the state of being undefined. For example, it can be used to indicate that a variable exists but has yet to be assigned a specific value."
      ],
      "metadata": {
        "id": "l1_n5BD78fqu"
      }
    },
    {
      "cell_type": "markdown",
      "source": [
        "**Object type**<br>You can use the type function to see what type Python believes an expression is, which you can call with the term type immediately followed by parentheses enclosing the expression you want to check (either a variable or a value), for example, type(10)."
      ],
      "metadata": {
        "id": "mofalb_o8zcp"
      }
    },
    {
      "cell_type": "code",
      "source": [
        "c = True\n",
        "print(c, \"is of\", type(c))"
      ],
      "metadata": {
        "colab": {
          "base_uri": "https://localhost:8080/"
        },
        "id": "AkHbQtYh9K8G",
        "outputId": "53e4bbbd-e044-413f-a063-4d6ebba69daa"
      },
      "execution_count": null,
      "outputs": [
        {
          "output_type": "stream",
          "name": "stdout",
          "text": [
            "True is of <class 'bool'>\n"
          ]
        }
      ]
    },
    {
      "cell_type": "code",
      "source": [
        "x = 19.234\n",
        "print(x, \"is of\", type(x))"
      ],
      "metadata": {
        "colab": {
          "base_uri": "https://localhost:8080/"
        },
        "id": "6EDXWLf49Vti",
        "outputId": "7ba40c3b-0d9b-4cc5-be12-50a750529162"
      },
      "execution_count": null,
      "outputs": [
        {
          "output_type": "stream",
          "name": "stdout",
          "text": [
            "19.234 is of <class 'float'>\n"
          ]
        }
      ]
    },
    {
      "cell_type": "code",
      "source": [
        "t = \"ATGTCGTCTACAATCCATTAC\"\n",
        "print(t, \"is of\", type(t))"
      ],
      "metadata": {
        "colab": {
          "base_uri": "https://localhost:8080/"
        },
        "id": "rmDlARd79leS",
        "outputId": "2b40893a-0722-4517-c949-c2b286bd7968"
      },
      "execution_count": null,
      "outputs": [
        {
          "output_type": "stream",
          "name": "stdout",
          "text": [
            "ATGTCGTCTACAATCCATTAC is of <class 'str'>\n"
          ]
        }
      ]
    },
    {
      "cell_type": "markdown",
      "source": [
        "**Comments** <br>\n",
        "It is frequently convenient to annotate your code while building a program to remind yourself of what you were (intentionally) having it do. These annotations are referred to as comments in programming. In Python, you may add a comment by using the # character to precede some text."
      ],
      "metadata": {
        "id": "P8-71JKWiz4Z"
      }
    },
    {
      "cell_type": "code",
      "source": [
        "print(\"Hello\") # this line will not be ignored\n",
        "print(\"Good Bye\")\n",
        "# print (\"Never seen\")  # This line will be ignored"
      ],
      "metadata": {
        "id": "vUMz_2YDi_ne"
      },
      "execution_count": null,
      "outputs": []
    },
    {
      "cell_type": "markdown",
      "source": [
        "#**Operators**"
      ],
      "metadata": {
        "id": "8JYOfVABFGPC"
      }
    },
    {
      "cell_type": "markdown",
      "source": [
        "**Assignment operator**"
      ],
      "metadata": {
        "id": "M7XkQAmZFYXh"
      }
    },
    {
      "cell_type": "code",
      "source": [
        "x= 5  # value of 5 being assigned to a variable x\n",
        "print(x)"
      ],
      "metadata": {
        "colab": {
          "base_uri": "https://localhost:8080/"
        },
        "id": "1GUsa0WV4FAI",
        "outputId": "ed424b29-b07c-42da-f5fd-e6eb61228cb7"
      },
      "execution_count": null,
      "outputs": [
        {
          "output_type": "stream",
          "name": "stdout",
          "text": [
            "5\n"
          ]
        }
      ]
    },
    {
      "cell_type": "code",
      "source": [
        "# \"x=5\" and \"x== 5\" are two differnt things\n",
        "\n",
        "x=5\n",
        "x==5"
      ],
      "metadata": {
        "colab": {
          "base_uri": "https://localhost:8080/"
        },
        "id": "CRwv0m1NFnZV",
        "outputId": "be9a3e1c-284e-45e3-e283-7e7187d70cd5"
      },
      "execution_count": null,
      "outputs": [
        {
          "output_type": "execute_result",
          "data": {
            "text/plain": [
              "True"
            ]
          },
          "metadata": {},
          "execution_count": 1
        }
      ]
    },
    {
      "cell_type": "markdown",
      "source": [
        "**Arithmetic Operators**<br>\n",
        "Python supports all common arithmetic operations on numerical types, and its syntax is essentially identical to that of several other computer languages."
      ],
      "metadata": {
        "id": "Gdz5GYNvjVCw"
      }
    },
    {
      "cell_type": "code",
      "source": [
        "x = 9\n",
        "y = 2\n",
        "\n",
        "print('x', x, 'y', y)\n",
        "print('addition x + y =', x + y)  # addition\n",
        "print('subtraction x - y =', x - y)  # subtraction\n",
        "print('multiplication x * y =', x * y) # multiplication\n",
        "print('division x / y =', x / y)  # division\n",
        "print('floored division x // y =', x // y) # floor division\n",
        "print('modulus (remainder of x/y) x % y =', x % y) # modulus\n",
        "print('exponentiation x ** y =', x ** y) #exponentiation"
      ],
      "metadata": {
        "colab": {
          "base_uri": "https://localhost:8080/"
        },
        "id": "LUjaK5r6jPVt",
        "outputId": "1598e10f-552f-4b6e-e883-a51c9a79a7db"
      },
      "execution_count": null,
      "outputs": [
        {
          "output_type": "stream",
          "name": "stdout",
          "text": [
            "x 9 y 2\n",
            "addition x + y = 11\n",
            "subtraction x - y = 7\n",
            "multiplication x * y = 18\n",
            "division x / y = 4.5\n",
            "floored division x // y = 4\n",
            "modulus (remainder of x/y) x % y = 1\n",
            "exponentiation x ** y = 81\n"
          ]
        }
      ]
    },
    {
      "cell_type": "markdown",
      "source": [
        "**Binding of Operators**<br>\n",
        "Binding determines the order of the computation. <br>\n",
        "\n",
        "*  Most python operators are **left-sided binding**, which means calculation is conducted from left to right."
      ],
      "metadata": {
        "id": "SDNLvY3BwsH7"
      }
    },
    {
      "cell_type": "code",
      "source": [
        "print(9 % 6 % 2)"
      ],
      "metadata": {
        "id": "Vf-XCWw-xGu4"
      },
      "execution_count": null,
      "outputs": []
    },
    {
      "cell_type": "markdown",
      "source": [
        "**Note- For exponentiation, python follows right-sided binding**"
      ],
      "metadata": {
        "id": "k494Habp4U6y"
      }
    },
    {
      "cell_type": "code",
      "source": [
        "print(2**2**3) # equivalent to 2**(2**3)"
      ],
      "metadata": {
        "colab": {
          "base_uri": "https://localhost:8080/"
        },
        "id": "3xBJudhg37o_",
        "outputId": "fd4dcb4c-ca22-470a-b772-c4cf5a057366"
      },
      "execution_count": null,
      "outputs": [
        {
          "output_type": "stream",
          "name": "stdout",
          "text": [
            "256\n"
          ]
        }
      ]
    },
    {
      "cell_type": "markdown",
      "source": [
        "**Operators and parentheses**<br>\n",
        "* Sub-expressions in parentheses are always calculated first.\n"
      ],
      "metadata": {
        "id": "E-FdV493yCdN"
      }
    },
    {
      "cell_type": "code",
      "source": [
        "print((5 * ((25 % 13) + 100) / (2 * 13)) // 2)"
      ],
      "metadata": {
        "colab": {
          "base_uri": "https://localhost:8080/"
        },
        "id": "KQkSH4vwyhll",
        "outputId": "521a3f97-dbf4-4062-a9d0-33c6e66eed19"
      },
      "execution_count": null,
      "outputs": [
        {
          "output_type": "stream",
          "name": "stdout",
          "text": [
            "10.0\n"
          ]
        }
      ]
    },
    {
      "cell_type": "markdown",
      "source": [
        "**Concatenation**"
      ],
      "metadata": {
        "id": "yqsK2EPrj7U6"
      }
    },
    {
      "cell_type": "code",
      "source": [
        "print('Number ' + str(6))"
      ],
      "metadata": {
        "colab": {
          "base_uri": "https://localhost:8080/"
        },
        "id": "CVt6XXZdj_7y",
        "outputId": "21fae671-f0fa-4c7e-e219-6719e922811d"
      },
      "execution_count": null,
      "outputs": [
        {
          "output_type": "stream",
          "name": "stdout",
          "text": [
            "Number 6\n"
          ]
        }
      ]
    },
    {
      "cell_type": "markdown",
      "source": [
        "#**Python data Structures**"
      ],
      "metadata": {
        "id": "oin5Finmkc-c"
      }
    },
    {
      "cell_type": "markdown",
      "source": [
        "#**Strings**"
      ],
      "metadata": {
        "id": "i-Q7bfWaksUi"
      }
    },
    {
      "cell_type": "markdown",
      "source": [
        "**Strings** <br>\n",
        "A string is a sequence of characters enclosed within single quotes (') or double quotes (\"). <br>\n",
        "\n",
        "Key Features:<br>\n",
        "*  Immutable (cannot be changed after creation). <br>\n",
        "*  Can include letters, numbers, and special characters."
      ],
      "metadata": {
        "id": "TkOs3-s3LroT"
      }
    },
    {
      "cell_type": "code",
      "source": [
        "letter = 'P'                # A string could be a single character or a bunch of texts\n",
        "print(letter)               # P\n",
        "print(len(letter))          # 1\n",
        "greeting = 'Hello, World!'  # String could be  a single or double quote,\"Hello, World!\"\n",
        "print(greeting)             # Hello, World!\n",
        "print(len(greeting))        # 13\n",
        "sentence = \"I hope you are enjoying BIF DD 2024 Workshop\"\n",
        "print(sentence)"
      ],
      "metadata": {
        "id": "e_8RXgWmM3V_"
      },
      "execution_count": null,
      "outputs": []
    },
    {
      "cell_type": "markdown",
      "source": [
        "**String manipulations** <br>\n",
        "Strings behave similarly to character, tuples, and individual characters and substrings can be retrieved and edited using the same techniques described above."
      ],
      "metadata": {
        "id": "ECMRxMqUojBy"
      }
    },
    {
      "cell_type": "code",
      "source": [
        "# Indexing and slicing of the string\n",
        "text = \"ATGTCATTTGT\"\n",
        "print(\"first element of the string is:\", text[0]) # A\n",
        "print(\"2nd element of the string is:\", text[1]) # T\n",
        "print(\"2nd element form the right is:\", text[-2]) # G\n",
        "print(\"indexing without skipping is:\", text[0:6]) # This is slicing of a string. Here it starts at zero index and up to 6 but not include 6\n",
        "print(\"indexing with skipping is:\", text[0:6:2]) # This is slicing of a string but with a skip of 1 i.e, go to next 2nd, skipping one\n",
        "print(\"Is ATG present in the string?:\", \"ATG\" in text) # checking whether a particular substring present in a given string (True or False)\n",
        "print(\"Is TGA present in the string?:\", \"TGA\" in text) #(True or False)\n",
        "print(\"The length is the string text is:\", len(text)) # gives the length of the string"
      ],
      "metadata": {
        "colab": {
          "base_uri": "https://localhost:8080/"
        },
        "id": "Ecd_EFY_o3yc",
        "outputId": "50d21bb3-7214-460f-dea3-2ab3c7ce827a"
      },
      "execution_count": null,
      "outputs": [
        {
          "output_type": "stream",
          "name": "stdout",
          "text": [
            "first element of the string is: A\n",
            "2nd element of the string is: T\n",
            "2nd element form the right is: G\n",
            "indexing without skipping is: ATGTCA\n",
            "indexing with skipping is: AGC\n",
            "Is ATG present in the string?: True\n",
            "Is TGA present in the string?: False\n",
            "The length is the string text is: 11\n"
          ]
        }
      ]
    },
    {
      "cell_type": "code",
      "source": [
        "# finding sub-strings\n",
        "dna = \"ATGTCACCGTTT\"\n",
        "index = dna.find(\"TCA\") # finding the position of the 1st letter of the substring in a given string (Here, the index of T)\n",
        "print(\"TCA is at position:\", index)\n",
        "index = dna.rfind('C') # searches for the last \"C\".\n",
        "print(\"The last Cytosine is at position:\", index)\n",
        "print(\"Position of a stop codon:\", dna.find(\"TGA\"))"
      ],
      "metadata": {
        "colab": {
          "base_uri": "https://localhost:8080/"
        },
        "id": "1WioH7oepBa6",
        "outputId": "21a2940f-2ea5-44be-a5c7-5c3dc84a72d3"
      },
      "execution_count": null,
      "outputs": [
        {
          "output_type": "stream",
          "name": "stdout",
          "text": [
            "TCA is at position: 3\n",
            "The last Cytosine is at position: 7\n",
            "Position of a stop codon: -1\n"
          ]
        }
      ]
    },
    {
      "cell_type": "markdown",
      "source": [
        "When we are reading text from files, often there is unwanted whitespace at the start or end of the string. <br>\n",
        "We can remove leading whitespace with the **.lstrip()** method, trailing whitespace with **.rstrip()**, and whitespace from both ends with **.strip()**. <br>\n",
        "\n",
        "All of these methods return a copy of the changed string, so if you want to replace the original you can assign the result of the method call to the original variable."
      ],
      "metadata": {
        "id": "VwIkpWxspNEF"
      }
    },
    {
      "cell_type": "code",
      "source": [
        "s_start = \"    Chromosome sequence start                     \"\n",
        "print(\"The string with white spaces at start and end is-\",  s_start, \"with length:\", len(s_start))\n",
        "\n",
        "s_start = s_start.lstrip()\n",
        "print(\"The new string after removing white spaces from start is-\",  s_start, \"with length:\", len(s_start))\n",
        "\n",
        "s_start = s_start.rstrip()\n",
        "print(\"The new string after removing white trailing spaces is-\",  s_start, \"with length:\", len(s_start))\n",
        "\n",
        "s_end = \"    Chromosome sequence End                     \"\n",
        "s_end = s_end.strip()\n",
        "print(\"The new string after removing white spaces from end is-\",  s_start, \"with length:\", len(s_end))"
      ],
      "metadata": {
        "id": "Ti8UK84MpVHx"
      },
      "execution_count": null,
      "outputs": []
    },
    {
      "cell_type": "markdown",
      "source": [
        "You can split a string into a list of substrings using the .split() method, supplying the delimiter as an argument to the method. If you don't supply any delimiter the method will split the string on whitespace by default (which is very often what you want!)<br>\n",
        "\n",
        "To split a string into its component characters you can simply cast the string to a list"
      ],
      "metadata": {
        "id": "yReVP5oPqK3e"
      }
    },
    {
      "cell_type": "code",
      "source": [
        "seq = \"ATG TCA CCG GGC\"\n",
        "codons = seq.split(\" \")\n",
        "print(codons)\n",
        "\n",
        "bases = list(seq) # a tuple of character converted into a list\n",
        "print(bases)"
      ],
      "metadata": {
        "colab": {
          "base_uri": "https://localhost:8080/"
        },
        "id": "Jy97N6kvpvIr",
        "outputId": "5d06b1aa-fd8c-46d9-cb24-3cc9390d8881"
      },
      "execution_count": null,
      "outputs": [
        {
          "output_type": "stream",
          "name": "stdout",
          "text": [
            "['ATG', 'TCA', 'CCG', 'GGC']\n",
            "['A', 'T', 'G', ' ', 'T', 'C', 'A', ' ', 'C', 'C', 'G', ' ', 'G', 'G', 'C']\n"
          ]
        }
      ]
    },
    {
      "cell_type": "markdown",
      "source": [
        "#**Lists**"
      ],
      "metadata": {
        "id": "lEz3c39Hk0gX"
      }
    },
    {
      "cell_type": "markdown",
      "source": [
        "**Lists**\n",
        "* Can contain any number of items\n",
        "* Can contain different types of items\n",
        "* Can be altered once created (they are mutable)\n",
        "* Items have a particular order\n",
        "* Lists are created with square brackets [  ] around their items:"
      ],
      "metadata": {
        "id": "tOoDxu2lmaYS"
      }
    },
    {
      "cell_type": "code",
      "source": [
        "Fruits = ['banana', 'orange', 'mango', 'lemon']        # list of fruits\n",
        "Subjects = ['Science', 'Maths', 'Arts', 'English']     # list of subjects\n",
        "Countries = ['India', 'Finland', 'Estonia', 'Denmark', 'Sweden']     # list of countries\n"
      ],
      "metadata": {
        "id": "WY03FO3ISHb7"
      },
      "execution_count": null,
      "outputs": []
    },
    {
      "cell_type": "code",
      "source": [
        "# Print the lists and it length\n",
        "print('Fruits:', Fruits)\n",
        "print('Number of fruits:', len(Fruits))\n",
        "print('Countries:', Countries)\n",
        "print('Number of Countries:', len(Countries))"
      ],
      "metadata": {
        "colab": {
          "base_uri": "https://localhost:8080/"
        },
        "id": "L7wN7frMS8Ac",
        "outputId": "c0e42cf6-393d-4eca-9f53-a83911316621"
      },
      "execution_count": null,
      "outputs": [
        {
          "output_type": "stream",
          "name": "stdout",
          "text": [
            "Fruits: ['banana', 'orange', 'mango', 'lemon']\n",
            "Number of fruits: 4\n",
            "Countries: ['India', 'Finland', 'Estonia', 'Denmark', 'Sweden']\n",
            "Number of Countries: 5\n"
          ]
        }
      ]
    },
    {
      "cell_type": "code",
      "source": [
        "# Acessing the items in the list\n",
        "\n",
        "first_fruit = Fruits[0] # we are accessing the first item using its index\n",
        "print(first_fruit)      # banana"
      ],
      "metadata": {
        "colab": {
          "base_uri": "https://localhost:8080/"
        },
        "id": "_ZZqIag2TlKk",
        "outputId": "d2350af8-e75e-4ee8-f831-4e3b27aec219"
      },
      "execution_count": null,
      "outputs": [
        {
          "output_type": "stream",
          "name": "stdout",
          "text": [
            "banana\n"
          ]
        }
      ]
    },
    {
      "cell_type": "code",
      "source": [
        "# Slicing items\n",
        "Fruits = ['banana', 'orange', 'mango', 'lemon']\n",
        "all_fruits = Fruits[0:4] # it returns all the fruits\n",
        "print(all_fruits)"
      ],
      "metadata": {
        "colab": {
          "base_uri": "https://localhost:8080/"
        },
        "id": "zcAFamCsT6Fc",
        "outputId": "a0278983-01e8-4574-dc44-a4786f89cda3"
      },
      "execution_count": null,
      "outputs": [
        {
          "output_type": "stream",
          "name": "stdout",
          "text": [
            "['banana', 'orange', 'mango', 'lemon']\n"
          ]
        }
      ]
    },
    {
      "cell_type": "code",
      "source": [
        "# Modifying the list\n",
        "Fruits = ['banana', 'orange', 'mango', 'lemon']\n",
        "Fruits[0] = 'Apple'\n",
        "print(Fruits)"
      ],
      "metadata": {
        "colab": {
          "base_uri": "https://localhost:8080/"
        },
        "id": "c8sq9_fJUQNK",
        "outputId": "c7ea36cc-d133-4dc4-f942-8a0687b596ca"
      },
      "execution_count": null,
      "outputs": [
        {
          "output_type": "stream",
          "name": "stdout",
          "text": [
            "['Apple', 'orange', 'mango', 'lemon']\n"
          ]
        }
      ]
    },
    {
      "cell_type": "code",
      "source": [
        "# Appending a list\n",
        "Fruits = ['apple', 'banana', 'orange', 'mango', 'lemon']\n",
        "Fruits.append('Avocado') # will be added at the last of the list\n",
        "print(Fruits)"
      ],
      "metadata": {
        "colab": {
          "base_uri": "https://localhost:8080/"
        },
        "id": "obQH-aQXUgfA",
        "outputId": "9d8a7439-0c9a-42c9-fd31-f7b5875d330d"
      },
      "execution_count": null,
      "outputs": [
        {
          "output_type": "stream",
          "name": "stdout",
          "text": [
            "['apple', 'banana', 'orange', 'mango', 'lemon', 'Avocado']\n"
          ]
        }
      ]
    },
    {
      "cell_type": "code",
      "source": [
        "# remove an item from the list\n",
        "Fruits = ['banana', 'orange', 'mango', 'lemon']\n",
        "Fruits.remove('banana')\n",
        "print(Fruits)  # ['orange', 'mango', 'lemon']\n",
        "Fruits.remove('lemon')\n",
        "print(Fruits)  # ['orange', 'mango']\n"
      ],
      "metadata": {
        "colab": {
          "base_uri": "https://localhost:8080/"
        },
        "id": "acKGREMrjjG9",
        "outputId": "9289f6a0-def4-4d97-9697-833c4db55307"
      },
      "execution_count": null,
      "outputs": [
        {
          "output_type": "stream",
          "name": "stdout",
          "text": [
            "['orange', 'mango', 'lemon']\n",
            "['orange', 'mango']\n"
          ]
        }
      ]
    },
    {
      "cell_type": "code",
      "source": [
        "# pop remove the last item from the list\n",
        "fruits = ['banana', 'orange', 'mango', 'lemon']\n",
        "fruits.pop()\n",
        "print(fruits)       # ['banana', 'orange', 'mango']"
      ],
      "metadata": {
        "colab": {
          "base_uri": "https://localhost:8080/"
        },
        "id": "rG-eNJ8Djx-V",
        "outputId": "0ed3c0bd-b72c-4a2b-f886-f7e4395f3a33"
      },
      "execution_count": null,
      "outputs": [
        {
          "output_type": "stream",
          "name": "stdout",
          "text": [
            "['banana', 'orange', 'mango']\n"
          ]
        }
      ]
    },
    {
      "cell_type": "code",
      "source": [
        "# copying the list\n",
        "fruits = ['banana', 'orange', 'mango', 'lemon']\n",
        "fruits_copy = fruits.copy()\n",
        "print(fruits_copy)       # ['banana', 'orange', 'mango', 'lemon']"
      ],
      "metadata": {
        "colab": {
          "base_uri": "https://localhost:8080/"
        },
        "id": "r9fKcm37kAlI",
        "outputId": "a08deb38-821b-4bca-d3ad-4fbe18190363"
      },
      "execution_count": null,
      "outputs": [
        {
          "output_type": "stream",
          "name": "stdout",
          "text": [
            "['banana', 'orange', 'mango', 'lemon']\n"
          ]
        }
      ]
    },
    {
      "cell_type": "code",
      "source": [
        "# sorting the list\n",
        "fruits = ['banana', 'orange', 'mango', 'lemon']\n",
        "fruits.sort()\n",
        "print(fruits)\n",
        "fruits.sort(reverse=True)\n",
        "print(fruits)"
      ],
      "metadata": {
        "colab": {
          "base_uri": "https://localhost:8080/"
        },
        "id": "gW7N7yUFkMNP",
        "outputId": "dad76d4e-045a-49cf-d8e6-3f75e88dfa1f"
      },
      "execution_count": null,
      "outputs": [
        {
          "output_type": "stream",
          "name": "stdout",
          "text": [
            "['banana', 'lemon', 'mango', 'orange']\n",
            "['orange', 'mango', 'lemon', 'banana']\n"
          ]
        }
      ]
    },
    {
      "cell_type": "markdown",
      "source": [
        "#**Tuples**"
      ],
      "metadata": {
        "id": "ehKxaaTUk_KV"
      }
    },
    {
      "cell_type": "markdown",
      "source": [
        "**Tuples** <br>\n",
        "\n",
        "*   Can contain any number of items <br>\n",
        "*   Can contain different types of items <br>\n",
        "*   Cannot be altered once created (they are immutable) <br>\n",
        "*    Items have a defined order <br>\n",
        "A tuple is created by using round brackets around the items it contains, with commas seperating the individual elements."
      ],
      "metadata": {
        "id": "j8L8ev8_kobh"
      }
    },
    {
      "cell_type": "code",
      "source": [
        "a = (10, 12, 35) # tuple of 4 integers\n",
        "b = () # empty tuple\n",
        "c = (\"Trp\",) # tuple of a single string (note the trailing \",\")\n",
        "d = (5, 8, False, \"Arg\", None) # a tuple of mixed types\n",
        "\n",
        "print(a)\n",
        "print(b)\n",
        "print(c)\n",
        "print(d)"
      ],
      "metadata": {
        "colab": {
          "base_uri": "https://localhost:8080/"
        },
        "id": "td-VTN-gkhhz",
        "outputId": "b9955de6-be08-48ff-f1df-30431f466a2c"
      },
      "execution_count": null,
      "outputs": [
        {
          "output_type": "stream",
          "name": "stdout",
          "text": [
            "(10, 12, 35)\n",
            "()\n",
            "('Trp',)\n",
            "(5, 8, False, 'Arg', None)\n"
          ]
        }
      ]
    },
    {
      "cell_type": "markdown",
      "source": [
        "Tuples can be packed and unpacked with a convenient syntax. The number of variables used to unpack the tuple must match the number of elements in the tuple."
      ],
      "metadata": {
        "id": "uegCMR7BmRPA"
      }
    },
    {
      "cell_type": "code",
      "source": [
        "t = 2, 3, 4 # tuple packing\n",
        "print('t is', t)\n",
        "x, y, z = t # tuple unpacking\n",
        "print('x is', x)\n",
        "print('y is', y)\n",
        "print('z is', z)"
      ],
      "metadata": {
        "colab": {
          "base_uri": "https://localhost:8080/"
        },
        "id": "TKtR17ZBmKfj",
        "outputId": "f6b28a5d-8bd4-4e6c-d810-023ac3f9676b"
      },
      "execution_count": null,
      "outputs": [
        {
          "output_type": "stream",
          "name": "stdout",
          "text": [
            "t is (2, 3, 4)\n",
            "x is 2\n",
            "y is 3\n",
            "z is 4\n"
          ]
        }
      ]
    },
    {
      "cell_type": "code",
      "source": [
        "a = [5, 8, 19]\n",
        "b = [\"AGC\"]\n",
        "c = []\n",
        "\n",
        "print(a)\n",
        "print(b)\n",
        "print(c)"
      ],
      "metadata": {
        "colab": {
          "base_uri": "https://localhost:8080/"
        },
        "id": "Mria8Pgkmpud",
        "outputId": "8419054e-4346-4d2c-b039-2f699de8227a"
      },
      "execution_count": null,
      "outputs": [
        {
          "output_type": "stream",
          "name": "stdout",
          "text": [
            "[5, 8, 19]\n",
            "['AGC']\n",
            "[]\n"
          ]
        }
      ]
    },
    {
      "cell_type": "markdown",
      "source": [
        "Lists and tuples can contain other list and tuples, or any other type of collection:"
      ],
      "metadata": {
        "id": "dRTIIAp_m4Tu"
      }
    },
    {
      "cell_type": "code",
      "source": [
        "matrix = [[1, 0], [0, 2]]\n",
        "print(matrix)"
      ],
      "metadata": {
        "colab": {
          "base_uri": "https://localhost:8080/"
        },
        "id": "5QCPqP73nBsy",
        "outputId": "1eec76c5-0406-450b-b9e4-a488c1f85103"
      },
      "execution_count": null,
      "outputs": [
        {
          "output_type": "stream",
          "name": "stdout",
          "text": [
            "[[1, 0], [0, 2]]\n"
          ]
        }
      ]
    },
    {
      "cell_type": "markdown",
      "source": [
        "The tuple and list functions allow you to convert tuples to lists. Note that this generate a new collection with the same contents while leaving the original unchanged."
      ],
      "metadata": {
        "id": "BFV9StYRnKLq"
      }
    },
    {
      "cell_type": "code",
      "source": [
        "a = (1, 4, 9, 16)     # A tuple of numbers\n",
        "b = ['G','C','A','T'] # A list of characters\n",
        "\n",
        "print(a)\n",
        "print(b)\n",
        "\n",
        "l = list(a)   # Make a list based on a tuple\n",
        "print(l)\n",
        "\n",
        "t = tuple(b)  # Make a tuple based on a list\n",
        "print(t)"
      ],
      "metadata": {
        "colab": {
          "base_uri": "https://localhost:8080/"
        },
        "id": "AukHSWe9ndb4",
        "outputId": "b960942a-8988-42fd-b736-aa76760d48d0"
      },
      "execution_count": null,
      "outputs": [
        {
          "output_type": "stream",
          "name": "stdout",
          "text": [
            "(1, 4, 9, 16)\n",
            "['G', 'C', 'A', 'T']\n",
            "[1, 4, 9, 16]\n",
            "('G', 'C', 'A', 'T')\n"
          ]
        }
      ]
    },
    {
      "cell_type": "markdown",
      "source": [
        "**Manipulating tuples and lists** <br>\n",
        "Once your data is in a list or tuple, Python provides a variety of methods for accessing and manipulating the list, such as sorting it. <br>\n",
        "\n",
        "Tuples and lists can generally be used in very similar ways."
      ],
      "metadata": {
        "id": "Cm2K0YSnoGRm"
      }
    },
    {
      "cell_type": "code",
      "source": [
        "x = (10, 45, 589, 232) # tuple\n",
        "\n",
        "print('x is', x)\n",
        "print('x[0] is', x[0])\n",
        "print('x[2] is', x[2])\n"
      ],
      "metadata": {
        "colab": {
          "base_uri": "https://localhost:8080/"
        },
        "id": "pCIx4_bGoidw",
        "outputId": "8bd04f43-94c4-4214-cf5e-7ecaaf6d46f8"
      },
      "execution_count": null,
      "outputs": [
        {
          "output_type": "stream",
          "name": "stdout",
          "text": [
            "x is (10, 45, 589, 232)\n",
            "x[0] is 10\n",
            "x[2] is 589\n",
            "y is [10, 45, 589, 232]\n",
            "y[-1] is 232\n"
          ]
        }
      ]
    },
    {
      "cell_type": "markdown",
      "source": [
        ".split() is the counterpart to the .join() method that lets you join the elements of a list into a string only if all the elements are of type String:"
      ],
      "metadata": {
        "id": "EMshPvS_p8nh"
      }
    },
    {
      "cell_type": "code",
      "source": [
        "seq = \"ATG TCA CCG GGC\"\n",
        "codons = seq.split(\" \")\n",
        "print(codons)\n",
        "print(\"|\".join(codons))"
      ],
      "metadata": {
        "colab": {
          "base_uri": "https://localhost:8080/"
        },
        "id": "yx10eqXCp2H8",
        "outputId": "7dd69631-bcb8-43ab-9f41-587581d47164"
      },
      "execution_count": null,
      "outputs": [
        {
          "output_type": "stream",
          "name": "stdout",
          "text": [
            "['ATG', 'TCA', 'CCG', 'GGC']\n",
            "ATG|TCA|CCG|GGC\n"
          ]
        }
      ]
    },
    {
      "cell_type": "markdown",
      "source": [
        "#**Sets and dictionaries**"
      ],
      "metadata": {
        "id": "YqfPvDL7qa4J"
      }
    },
    {
      "cell_type": "markdown",
      "source": [
        "**Sets**\n",
        "* Sets contain unique elements, i.e. no repeats are allowed <br>\n",
        "* The elements in a set do not have an order <br>\n",
        "* Sets cannot contain elements which can be internally modified (e.g. lists and dictionaries)"
      ],
      "metadata": {
        "id": "M9aaqDY5qi0N"
      }
    },
    {
      "cell_type": "code",
      "source": [
        "k = [1, 2, 1, 4, 2, 3, 5] # list of 5 values\n",
        "m = set(k) # set of 5 unique values\n",
        "print(m)\n",
        "e = set() # empty set\n",
        "print(e)"
      ],
      "metadata": {
        "colab": {
          "base_uri": "https://localhost:8080/"
        },
        "id": "qaw8x6AWq7mS",
        "outputId": "d1e27f46-1b0b-4883-838f-68dd4d569b12"
      },
      "execution_count": null,
      "outputs": [
        {
          "output_type": "stream",
          "name": "stdout",
          "text": [
            "{1, 2, 3, 4, 5}\n",
            "set()\n"
          ]
        }
      ]
    },
    {
      "cell_type": "markdown",
      "source": [
        "Sets are quite similar to lists and tuples, and you can use many of the same operators and functions, but they are fundamentally unordered, so they don't have an index, and can only contain unique values, thus adding a value already in the set will have no effect."
      ],
      "metadata": {
        "id": "wy3P7v_7sfpU"
      }
    },
    {
      "cell_type": "code",
      "source": [
        "s = set([1, 2, 3, 2, 3])\n",
        "print(s)\n",
        "print(\"number in set:\", len(s))\n",
        "s.add(4)\n",
        "print(s)\n",
        "s.add(3)\n",
        "print(s)"
      ],
      "metadata": {
        "id": "UFDnhqlIqtL9"
      },
      "execution_count": null,
      "outputs": []
    },
    {
      "cell_type": "code",
      "source": [
        "#You can remove specific elements from the set.\n",
        "\n",
        "s = set([1, 2, 3, 2, 3])\n",
        "print(s)\n",
        "s.remove(3)\n",
        "print(s)"
      ],
      "metadata": {
        "id": "fpHUneuWsswf"
      },
      "execution_count": null,
      "outputs": []
    },
    {
      "cell_type": "markdown",
      "source": [
        "**Dictionaries**<br>\n",
        "Although lists are helpful in many situations, we frequently have data that isn't inherently ordered and that we would prefer to reach using a helpful name rather than an index. For instance, we might have a collection of genes and their corresponding expression values as a result of an experiment. A list of the expression values could be created, but it would become difficult to recall which index in the list matched which gene. <br>\n",
        "\n",
        "For these situations a dictionary is a very useful data structure. <br>\n",
        "\n",
        "Dictionaries:<br>\n",
        "\n",
        "* Contain a mapping of keys to values (like a word and its corresponding definition in a dictionary)<br>\n",
        "* The keys of a dictionary are unique, i.e. they cannot repeat<br>\n",
        "* The values of a dictionary can be of any data type<br>\n",
        "* The keys of a dictionary cannot be an internally modifiable type (e.g. lists, but you can use tuples)<br>\n",
        "* Dictionaries do not store data in any particular order<br>\n",
        "\n"
      ],
      "metadata": {
        "id": "K8U9V3yltael"
      }
    },
    {
      "cell_type": "code",
      "source": [
        "nucleotides = {\"A\": \"Adenine\", \"C\": \"Cytosine\", \"G\": \"Guanine\", \"T\": \"Thymine\"}\n",
        "print(nucleotides)"
      ],
      "metadata": {
        "colab": {
          "base_uri": "https://localhost:8080/"
        },
        "id": "y8GBtjIguNSo",
        "outputId": "834ede30-5846-4266-ea6f-b7d20d432c44"
      },
      "execution_count": null,
      "outputs": [
        {
          "output_type": "stream",
          "name": "stdout",
          "text": [
            "{'A': 'Adenine', 'C': 'Cytosine', 'G': 'Guanine', 'T': 'Thymine'}\n"
          ]
        }
      ]
    },
    {
      "cell_type": "code",
      "source": [
        "#You can access values in a dictionary using the key inside square brackets\n",
        "\n",
        "nucleotides = {\"A\": \"Adenine\", \"C\": \"Cytosine\", \"G\": \"Guanine\", \"T\": \"Thymine\"}\n",
        "print(\"A represents\", nucleotides[\"A\"])\n",
        "print(\"G represents\", nucleotides[\"G\"])"
      ],
      "metadata": {
        "colab": {
          "base_uri": "https://localhost:8080/"
        },
        "id": "BVUx1bIGuN8w",
        "outputId": "f6d70972-904f-42dd-eaef-02f232182a8c"
      },
      "execution_count": null,
      "outputs": [
        {
          "output_type": "stream",
          "name": "stdout",
          "text": [
            "A represents Adenine\n",
            "G represents Guanine\n"
          ]
        }
      ]
    },
    {
      "cell_type": "code",
      "source": [
        "#An error is triggered if a key is absent from the dictionary:\n",
        "\n",
        "nucleotides = {\"A\": \"Adenine\", \"C\": \"Cytosine\", \"G\": \"Guanine\", \"T\": \"Thymine\"}\n",
        "#print(\"What about N?\", nucleotides[\"N\"])"
      ],
      "metadata": {
        "id": "vstLlPs6unCm"
      },
      "execution_count": null,
      "outputs": []
    },
    {
      "cell_type": "code",
      "source": [
        "# length of a dictionary\n",
        "print(len(nucleotides))"
      ],
      "metadata": {
        "colab": {
          "base_uri": "https://localhost:8080/"
        },
        "id": "vdC9iJG1u9Fk",
        "outputId": "e5926ccd-d47c-4fab-ace0-15930da7523c"
      },
      "execution_count": null,
      "outputs": [
        {
          "output_type": "stream",
          "name": "stdout",
          "text": [
            "4\n"
          ]
        }
      ]
    },
    {
      "cell_type": "code",
      "source": [
        "#You can introduce new entries in the dictionary by assigning a value with a new key:\n",
        "\n",
        "nucleotides = {\"A\": \"Adenine\", \"C\": \"Cytosine\", \"G\": \"Guanine\", \"T\": \"Thymine\"}\n",
        "nucleotides['Y'] = 'Pyrimidine'\n",
        "print(nucleotides)"
      ],
      "metadata": {
        "colab": {
          "base_uri": "https://localhost:8080/"
        },
        "id": "4e2t3tfrvRmq",
        "outputId": "5e992031-d9d7-415d-cb74-b3ed00c17fbc"
      },
      "execution_count": null,
      "outputs": [
        {
          "output_type": "stream",
          "name": "stdout",
          "text": [
            "{'A': 'Adenine', 'C': 'Cytosine', 'G': 'Guanine', 'T': 'Thymine', 'Y': 'Pyrimidine'}\n"
          ]
        }
      ]
    },
    {
      "cell_type": "code",
      "source": [
        "#You can delete entries from the dictionary:\n",
        "\n",
        "nucleotides = {'A': 'Adenine', 'C': 'Cytosine', 'T': 'Thymine', 'G': 'Guanine', 'Y': 'Pyrimidine'}\n",
        "del nucleotides['Y']\n",
        "print(nucleotides)"
      ],
      "metadata": {
        "colab": {
          "base_uri": "https://localhost:8080/"
        },
        "id": "9L-nBDgLvnyd",
        "outputId": "3b87f855-fdd9-4c16-e011-734eba1808d7"
      },
      "execution_count": null,
      "outputs": [
        {
          "output_type": "stream",
          "name": "stdout",
          "text": [
            "{'A': 'Adenine', 'C': 'Cytosine', 'T': 'Thymine', 'G': 'Guanine'}\n"
          ]
        }
      ]
    },
    {
      "cell_type": "code",
      "source": [
        "#You can get a list of all the keys (in arbitrary order) using the inbuilt .keys() function\n",
        "\n",
        "nucleotides = {'A': 'Adenine', 'C': 'Cytosine', 'T': 'Thymine', 'G': 'Guanine', 'Y': 'Pyrimidine'}\n",
        "print(list(nucleotides.keys()))\n"
      ],
      "metadata": {
        "colab": {
          "base_uri": "https://localhost:8080/"
        },
        "id": "bh42TFstv1b4",
        "outputId": "6df66258-5446-4452-a7f5-cc67b58047ec"
      },
      "execution_count": null,
      "outputs": [
        {
          "output_type": "stream",
          "name": "stdout",
          "text": [
            "['A', 'C', 'T', 'G', 'Y']\n"
          ]
        }
      ]
    },
    {
      "cell_type": "code",
      "source": [
        "#And equivalently get a list of the values:\n",
        "\n",
        "nucleotides = {'A': 'Adenine', 'C': 'Cytosine', 'T': 'Thymine', 'G': 'Guanine', 'Y': 'Pyrimidine'}\n",
        "print(list(nucleotides.values()))"
      ],
      "metadata": {
        "colab": {
          "base_uri": "https://localhost:8080/"
        },
        "id": "Oj4h8QPnwCCF",
        "outputId": "7f882b54-fa6c-418e-ec6d-512472302cfe"
      },
      "execution_count": null,
      "outputs": [
        {
          "output_type": "stream",
          "name": "stdout",
          "text": [
            "['Adenine', 'Cytosine', 'Thymine', 'Guanine', 'Pyrimidine']\n"
          ]
        }
      ]
    },
    {
      "cell_type": "markdown",
      "source": [
        "#**Conditonal Statements in python**"
      ],
      "metadata": {
        "id": "Zo1Qhlm4S-Le"
      }
    },
    {
      "cell_type": "markdown",
      "source": [
        "**If condition**"
      ],
      "metadata": {
        "id": "b_9XK_FMTvow"
      }
    },
    {
      "cell_type": "code",
      "execution_count": null,
      "metadata": {
        "id": "Ng6WIJ0DLnRg"
      },
      "outputs": [],
      "source": [
        "#if true_or_not:\n",
        "    #do_this_if_true\n"
      ]
    },
    {
      "cell_type": "code",
      "source": [
        "num= 2\n",
        "if num > 0:\n",
        "  print(num, \" is a positive number\")\n",
        "print(\"This is always printed\")"
      ],
      "metadata": {
        "colab": {
          "base_uri": "https://localhost:8080/"
        },
        "id": "28fvDu9NVJdD",
        "outputId": "8fda7b3a-0481-4136-e0f1-8a90414e59a2"
      },
      "execution_count": null,
      "outputs": [
        {
          "output_type": "stream",
          "name": "stdout",
          "text": [
            "2  is a positive number\n",
            "This is always printed\n"
          ]
        }
      ]
    },
    {
      "cell_type": "markdown",
      "source": [
        "**if-else condition**"
      ],
      "metadata": {
        "id": "pwSKa814V2k2"
      }
    },
    {
      "cell_type": "code",
      "source": [
        "\"\"\"if true_or_false_condition:\n",
        "    perform_if_condition_true\n",
        "else:\n",
        "    perform_if_condition_false\"\"\""
      ],
      "metadata": {
        "id": "zwcVaESeVvl4"
      },
      "execution_count": null,
      "outputs": []
    },
    {
      "cell_type": "code",
      "source": [
        "num= -1\n",
        "if num > 0:\n",
        "  print(num, \" is a positive number\")\n",
        "else:\n",
        "  print(num, \" is a negative number\")\n",
        "print(\"This is always printed\")"
      ],
      "metadata": {
        "colab": {
          "base_uri": "https://localhost:8080/"
        },
        "id": "31R7XKgsVour",
        "outputId": "83fb6e96-64ed-4677-b897-89504de482de"
      },
      "execution_count": null,
      "outputs": [
        {
          "output_type": "stream",
          "name": "stdout",
          "text": [
            "-1  is a negative number\n",
            "This is always printed\n"
          ]
        }
      ]
    },
    {
      "cell_type": "markdown",
      "source": [
        "**Nested if-else statements**"
      ],
      "metadata": {
        "id": "M4BRy1cUX_np"
      }
    },
    {
      "cell_type": "code",
      "source": [
        "\"\"\"if the_weather_is_good:\n",
        "    if nice_restaurant_is_found:\n",
        "        have_lunch()\n",
        "    else:\n",
        "        eat_a_sandwich()\n",
        "else:\n",
        "    if tickets_are_available:\n",
        "        go_to_the_theater()\n",
        "    else:\n",
        "        go_shopping()\"\"\"\n"
      ],
      "metadata": {
        "id": "q_xBMwvlYExh"
      },
      "execution_count": null,
      "outputs": []
    },
    {
      "cell_type": "markdown",
      "source": [
        "**The elif statement\n",
        "The second special case introduces another new Python keyword: elif. As you probably suspect, it's a shorter form of else if.**\n",
        "\n",
        "elif is used to check more than just one condition, and to stop when the first statement which is true is found."
      ],
      "metadata": {
        "id": "besOY7HnYTvK"
      }
    },
    {
      "cell_type": "code",
      "source": [
        "\"\"\"if the_weather_is_good:\n",
        "    go_for_a_walk()\n",
        "elif tickets_are_available:\n",
        "    go_to_the_theater()\n",
        "elif table_is_available:\n",
        "    go_for_lunch()\n",
        "else:\n",
        "    play_chess_at_home()\"\"\"\n",
        "\n"
      ],
      "metadata": {
        "id": "KEJjNSIbY1YC"
      },
      "execution_count": null,
      "outputs": []
    },
    {
      "cell_type": "markdown",
      "source": [
        "#**Loops**"
      ],
      "metadata": {
        "id": "uJayHcNilWxf"
      }
    },
    {
      "cell_type": "markdown",
      "source": [
        "**Loops**<br>\n",
        "When an operation must be done numerous times, such as on all of the items in a list, we use a loop to avoid typing (or copying and pasting) repetitive code. Python has two looping constructs: the for loop and the while loop."
      ],
      "metadata": {
        "id": "O8ODMclbxUCg"
      }
    },
    {
      "cell_type": "markdown",
      "source": [
        "**For Loop**<br>\n",
        "The for loop in Python iterates through each item in a sequence (such as a list or tuple) in the order in which they appear. This indicates that a variable (code in the following example) is assigned to each item in the sequence of values in turn, and the indented block of code is run again."
      ],
      "metadata": {
        "id": "WQdtPhf8xz0o"
      }
    },
    {
      "cell_type": "code",
      "source": [
        "codeList = ['NA07896', 'NA07897', 'NA07898', 'NA07899', 'NA07990']"
      ],
      "metadata": {
        "id": "ZfR3ZHJ5x6-U"
      },
      "execution_count": null,
      "outputs": []
    },
    {
      "cell_type": "code",
      "source": [
        "for x in codeList:\n",
        "    print(x)"
      ],
      "metadata": {
        "id": "dNwL_uxQyXZ5"
      },
      "execution_count": null,
      "outputs": []
    },
    {
      "cell_type": "code",
      "source": [
        "#A for loop can iterate over the individual characters in a string:\n",
        "\n",
        "dnaSequence = 'ATGGTGTTCAGTTTA'\n",
        "\n",
        "for base in dnaSequence:\n",
        "    print(base)"
      ],
      "metadata": {
        "id": "n4lXpaKTywW6"
      },
      "execution_count": null,
      "outputs": []
    },
    {
      "cell_type": "code",
      "source": [
        "#The range() method with a for loop can be used to iterate over a numeric sequence.\n",
        "for a in range(4):\n",
        "    print(a*a)"
      ],
      "metadata": {
        "id": "XppK9kfzCml-"
      },
      "execution_count": null,
      "outputs": []
    },
    {
      "cell_type": "markdown",
      "source": [
        "**While Loop**<br>\n",
        "In addition to the for loop, which operates on a list of objects, there is a while loop, which simply repeats while some assertion is True and stops when it is False. Note that if the tested expression never evaluates to False, you will have a \"infinite loop,\" which is undesirable."
      ],
      "metadata": {
        "id": "vl5nkEWOzNi0"
      }
    },
    {
      "cell_type": "code",
      "source": [
        "number = 2\n",
        "while number < 10:\n",
        "    number = number * 2\n",
        "    print(number)\n",
        "\n",
        "print(\"final number:\", number)"
      ],
      "metadata": {
        "id": "ErAyvqdCz-JH"
      },
      "execution_count": null,
      "outputs": []
    },
    {
      "cell_type": "markdown",
      "source": [
        "**Breaking/Skipping the loop**<br>Python has two methods for controlling the flow of the for or while loop within the block. The continue statement indicates that the remaining code in the block is skipped for this specific item in the collection, i.e., jump to the next iteration. In this example, negative values are left out of a sum."
      ],
      "metadata": {
        "id": "cdyQAVUEzrMW"
      }
    },
    {
      "cell_type": "code",
      "source": [
        "values = [10, -5, 3, -1, 7]\n",
        "\n",
        "total = 0\n",
        "for v in values:\n",
        "    if v < 0:\n",
        "        continue # Skip this iteration\n",
        "    total += v\n",
        "\n",
        "print(total)"
      ],
      "metadata": {
        "id": "rKA5Na6T0YWB"
      },
      "execution_count": null,
      "outputs": []
    },
    {
      "cell_type": "markdown",
      "source": [
        "**String Formatting**<br>\n",
        "Python's built-in  .format() function uses \"replacement fields\" wrapped by curly braces {}, beginning with an optional field name, followed by a colon, and ending with a format specification. <br>\n",
        "\n",
        "There are lots of these specifiers, but here are 3 useful ones:<br>\n",
        "\n",
        "d: decimal integer<br>\n",
        "f: floating point number<br>\n",
        "s: string<br>\n",
        "\n",
        "You can specify the amount of decimal points to use in a floating point value, for as.2f for two decimal places or +.2f to use two decimal places while always displaying the associated symbol."
      ],
      "metadata": {
        "id": "csyVN-OaEG5J"
      }
    },
    {
      "cell_type": "code",
      "source": [
        "print('{:.2f}'.format(0.64389))"
      ],
      "metadata": {
        "id": "3PR88ESyEEEt"
      },
      "execution_count": null,
      "outputs": []
    }
  ]
}